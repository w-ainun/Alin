{
 "cells": [
  {
   "cell_type": "markdown",
   "metadata": {},
   "source": [
    "# **APLIKASI KAL**\n",
    "\n",
    "### **Algoritma Page Rank**\n",
    "\n",
    "Algoritma PageRank adalah algoritma yang digunakan untuk menentukan pentingnya suatu halaman web dalam suatu jaringan web. Algoritma ini dikembangkan oleh Larry Page dan Sergey Brin, pendiri Google, dan menjadi salah satu faktor utama dalam menentukan peringkat halaman web dalam hasil pencarian Google.\n",
    "\n",
    "Algoritma PageRank bekerja dengan cara merepresentasikan jaringan web sebagai sebuah graf. Dalam graf ini, setiap halaman web direpresentasikan sebagai sebuah simpul (node) dan setiap tautan antara halaman web direpresentasikan sebagai sisi (edge). \n",
    "\n",
    "**Prinsip dasar algoritma PageRank adalah:**\n",
    "\n",
    "* Semakin banyak halaman web yang menautkan ke suatu halaman web, semakin penting halaman web tersebut.\n",
    "* Semakin penting halaman web yang menautkan ke suatu halaman web, semakin besar kontribusinya terhadap nilai PageRank halaman web tersebut.\n",
    "\n",
    "**Langkah-langkah dalam algoritma PageRank:**\n",
    "\n",
    "1. **Inisialisasi:** Setiap simpul dalam graf diberi nilai PageRank awal yang sama.\n",
    "2. **Iterasi:**\n",
    "    * Hitung nilai PageRank baru untuk setiap simpul berdasarkan nilai PageRank simpul-simpul yang menautkan ke simpul tersebut.\n",
    "    * Ulangi langkah 2 hingga nilai PageRank semua simpul konvergen, yaitu tidak mengalami perubahan yang signifikan.\n",
    "3. **Normalisasi:** Nilai PageRank semua simpul dinormalisasi agar memiliki nilai antara 0 dan 1.\n",
    "\n",
    "**Rumus untuk menghitung nilai PageRank baru:**\n",
    "\n",
    "```\n",
    "PR(v) = (1 - d) / N + d * ∑(PR(u) / OutDegree(u))\n",
    "```\n",
    "\n",
    "* PR(v): Nilai PageRank baru untuk simpul v\n",
    "* d: Faktor damping, nilai konstanta antara 0 dan 1 yang digunakan untuk mencegah nilai PageRank terlalu tinggi atau terlalu rendah. Nilai yang umum digunakan adalah 0.85.\n",
    "* N: Jumlah total simpul dalam graf\n",
    "* PR(u): Nilai PageRank simpul u\n",
    "* OutDegree(u): Jumlah sisi yang keluar dari simpul u"
   ]
  },
  {
   "cell_type": "code",
   "execution_count": 1,
   "metadata": {},
   "outputs": [
    {
     "name": "stdout",
     "output_type": "stream",
     "text": [
      "[[0.06666667]\n",
      " [0.36666667]\n",
      " [0.13333333]\n",
      " [0.16666667]\n",
      " [0.26666667]]\n"
     ]
    }
   ],
   "source": [
    "import numpy as np\n",
    "A = np.array([[0,0,0,0,1/3], [0,0,1/2,1,1/3], [1/3,0,0,0,1/3],[1/3,0,1/2,0,0],[1/3,1,0,0,0]])\n",
    "V0 = np.array([[0.2], [0.2], [0.2], [0.2], [0.2]])\n",
    "\n",
    "V1 = A @ V0\n",
    "\n",
    "print(V1)"
   ]
  },
  {
   "cell_type": "code",
   "execution_count": 2,
   "metadata": {},
   "outputs": [
    {
     "name": "stdout",
     "output_type": "stream",
     "text": [
      "[[0.08888889]\n",
      " [0.32222222]\n",
      " [0.11111111]\n",
      " [0.08888889]\n",
      " [0.38888889]]\n"
     ]
    }
   ],
   "source": [
    "V2 = A @ V1\n",
    "print(V2)"
   ]
  },
  {
   "cell_type": "code",
   "execution_count": 3,
   "metadata": {},
   "outputs": [
    {
     "name": "stdout",
     "output_type": "stream",
     "text": [
      "[[0.12962963]\n",
      " [0.27407407]\n",
      " [0.15925926]\n",
      " [0.08518519]\n",
      " [0.35185185]]\n"
     ]
    }
   ],
   "source": [
    "V3 = A @ V2\n",
    "print(V3)"
   ]
  },
  {
   "cell_type": "code",
   "execution_count": 4,
   "metadata": {},
   "outputs": [
    {
     "name": "stdout",
     "output_type": "stream",
     "text": [
      "[[0.11728395]\n",
      " [0.28209877]\n",
      " [0.16049383]\n",
      " [0.12283951]\n",
      " [0.31728395]]\n"
     ]
    }
   ],
   "source": [
    "V4 = A @ V3\n",
    "print(V4)"
   ]
  },
  {
   "cell_type": "code",
   "execution_count": 5,
   "metadata": {},
   "outputs": [
    {
     "name": "stdout",
     "output_type": "stream",
     "text": [
      "[[0.10576132]\n",
      " [0.30884774]\n",
      " [0.14485597]\n",
      " [0.11934156]\n",
      " [0.32119342]]\n"
     ]
    }
   ],
   "source": [
    "V5= A @ V4\n",
    "print(V5)"
   ]
  },
  {
   "cell_type": "code",
   "execution_count": 6,
   "metadata": {},
   "outputs": [
    {
     "name": "stdout",
     "output_type": "stream",
     "text": [
      "0.0011203406734407993\n"
     ]
    }
   ],
   "source": [
    "#|V(i+1)-Vi|**2 < toleransi (0,01)\n",
    "a = (0.10576132 - 0.11728395)**2\n",
    "b = (0.30884774 - 0.28209877)**2\n",
    "c = (0.14485597 - 0.16049383)**2\n",
    "d = (0.11934156 - 0.12283951)**2\n",
    "e = (0.32119342 - 0.31728395)**2\n",
    "\n",
    "f = a+b+c+d+e\n",
    "\n",
    "print(f)"
   ]
  },
  {
   "cell_type": "code",
   "execution_count": 7,
   "metadata": {},
   "outputs": [
    {
     "name": "stdout",
     "output_type": "stream",
     "text": [
      "v1 = [[0.06666667]\n",
      " [0.36666667]\n",
      " [0.13333333]\n",
      " [0.16666667]\n",
      " [0.26666667]]\n",
      "iterasi ke-1 = [0.05555556]\n",
      "\n",
      "v2 = [[0.06666667]\n",
      " [0.36666667]\n",
      " [0.13333333]\n",
      " [0.16666667]\n",
      " [0.26666667]]\n",
      "iterasi ke-2 = [0.02395062]\n",
      "\n",
      "v3 = [[0.08888889]\n",
      " [0.32222222]\n",
      " [0.11111111]\n",
      " [0.08888889]\n",
      " [0.38888889]]\n",
      "iterasi ke-3 = [0.00768176]\n",
      "\n",
      "urutan = [[4]\n",
      " [1]\n",
      " [2]\n",
      " [0]\n",
      " [3]]\n"
     ]
    }
   ],
   "source": [
    "import numpy as np\n",
    "\n",
    "def perkalianMatriks(A,v0):\n",
    "  vbaru = A@v0\n",
    "  return vbaru\n",
    "\n",
    "def hitung(vbaru,vlama):\n",
    "  temp = 0\n",
    "  for i in range(len(vbaru)):\n",
    "    temp += (vbaru[i] - vlama[i])**2\n",
    "  return temp\n",
    "\n",
    "def converge(A,v0,toleransi):\n",
    "  count = 1\n",
    "  vbaru = perkalianMatriks(A,v0)\n",
    "  iterasi = hitung(vbaru,v0)\n",
    "  print(f'v{count} = {vbaru}')\n",
    "  print(f'iterasi ke-{count} = {iterasi}')\n",
    "  print()\n",
    "  while iterasi > toleransi :\n",
    "    vbaru2 = perkalianMatriks(A,vbaru)\n",
    "    iterasi = hitung(vbaru2,vbaru)\n",
    "    print(f'v{count+1} = {vbaru}')\n",
    "    print(f'iterasi ke-{count+1} = {iterasi}')\n",
    "    print()\n",
    "    vbaru = vbaru2\n",
    "    count += 1\n",
    "  return f'urutan = {pageRank(vbaru2)}'\n",
    "\n",
    "def pageRank(vbaru):\n",
    "  return np.argsort(vbaru,axis=0)[::-1]\n",
    "\n",
    "A = np.array([[0,0,0,0,1/3],[0,0,1/2,1,1/3],[1/3,0,0,0,1/3],[1/3,0,1/2,0,0],[1/3,1,0,0,0]])\n",
    "v0 = np.array([[0.2],[0.2],[0.2],[0.2],[0.2]])\n",
    "toleransi = 0.01\n",
    "hasil = converge(A,v0,toleransi)\n",
    "print(hasil)"
   ]
  }
 ],
 "metadata": {
  "kernelspec": {
   "display_name": "Python 3 (ipykernel)",
   "language": "python",
   "name": "python3"
  }
 },
 "nbformat": 4,
 "nbformat_minor": 2
}
