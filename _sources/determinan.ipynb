{
 "cells": [
  {
   "cell_type": "markdown",
   "metadata": {},
   "source": [
    "# **DETERMINAN**\n",
    "\n",
    "determinan matriks adalah nilai yang diperoleh dari matriks persegi. Si determinan ini adalah fungsi yang akan memetakan matriks persegi ke bilangan real. Determinan dari sebuah matriks persegi adalah sebuah skalar yang memberikan informasi tentang matriks tersebut, misalnya tentang kemungkinan untuk diinvers. matriks tersebut  harus persegi atau bujur sabfkar dan memiliki ordo yang sama misal 2x2 dan 3X3\n",
    "\n",
    "# SIFAT SIFAT DETERMINANT\n",
    "\n",
    "1. determinan dari matriks identitas adalah 1\n",
    "\n",
    "yang pertama disini saya mempunyai 4 matrix                         \n",
    "$\n",
    "A = \\begin{bmatrix}\n",
    "3 & 2 \\\\\n",
    "5 & 3 \\\\\n",
    "\\end{bmatrix}\n",
    "$\n",
    "\n",
    "$\n",
    "B = \\begin{bmatrix}\n",
    "2 & 3 & 3 \\\\\n",
    "4 & 2 & 1 \\\\\n",
    "6 & 4 & 3\n",
    "\\end{bmatrix}\n",
    "$\n",
    "\n",
    "$\n",
    "C = \\begin{bmatrix}\n",
    "1 & 0 \\\\\n",
    "0 & 1 \\\\\n",
    "\\end{bmatrix}\n",
    "$\n",
    "\n",
    "$\n",
    "D = \\begin{bmatrix}\n",
    "1 & 0 & 0 \\\\\n",
    "0 & 1 & 0 \\\\\n",
    "0 & 0 & 1 \\\\\n",
    "\\end{bmatrix}\n",
    "$\n",
    "\n",
    "mari kita buktikan determinant dari matrix C dan D"
   ]
  },
  {
   "cell_type": "code",
   "execution_count": 1,
   "metadata": {},
   "outputs": [
    {
     "name": "stdout",
     "output_type": "stream",
     "text": [
      "[[3 2]\n",
      " [5 3]]\n",
      "\n",
      "[[2 3 3]\n",
      " [4 2 1]\n",
      " [6 4 3]]\n",
      "\n",
      "[[1 0]\n",
      " [0 1]]\n",
      "\n",
      "[[1 0 0]\n",
      " [0 1 0]\n",
      " [0 0 1]]\n",
      "\n",
      "determinan dari matriks identitas c adalah : 1.0\n",
      "determinan dari matriks identitas d adalah : 1.0\n",
      "\n"
     ]
    }
   ],
   "source": [
    "import numpy as np\n",
    "a = np.array([[3,2], [5,3]])\n",
    "b = np.array([[2,3,3],[4,2,1],[6,4,3]])\n",
    "c = np.array([[1,0], [0,1]])\n",
    "d = np.array([[1,0,0],[0,1,0],[0,0,1]])\n",
    "print(a)\n",
    "print()\n",
    "print(b)\n",
    "print()\n",
    "print(c)\n",
    "print()\n",
    "print(d)\n",
    "print()\n",
    "print(f\"determinan dari matriks identitas c adalah : {np.linalg.det(c)}\")\n",
    "print(f\"determinan dari matriks identitas d adalah : {np.linalg.det(d)}\")\n",
    "print()"
   ]
  },
  {
   "cell_type": "markdown",
   "metadata": {},
   "source": [
    "2. $ det(c) = det (a * b) $                               \n",
    "            $= det(a) * det(b)$                             \n",
    "            $= A * A^I $          \n",
    "\n",
    "dan                   \n",
    "\n",
    "$ I = A * A^I$                            \n",
    "$ detI = det(A) * det(A^I) $                                \n",
    "$ detA^I = 1/detA$                                               \n",
    "\n",
    "mari kita buktikan"
   ]
  },
  {
   "cell_type": "code",
   "execution_count": 2,
   "metadata": {},
   "outputs": [
    {
     "name": "stdout",
     "output_type": "stream",
     "text": [
      "determinan A : -1.0\n",
      "determinan A invers : -1.0\n",
      "det.A x det.B : 1\n",
      "[[1. 0.]\n",
      " [0. 1.]]\n"
     ]
    }
   ],
   "source": [
    "a = np.array([[3,2], [5,3]])\n",
    "B = np.linalg.inv(a)\n",
    "detA = np.linalg.det(a)\n",
    "detB = np.linalg.det(B)\n",
    "print(f'determinan A : {detA.round()}')\n",
    "print(f'determinan A invers : {detB.round()}')\n",
    "C = detA * detB\n",
    "print(f\"det.A x det.B :\",round(C))\n",
    "print(a@B.round())"
   ]
  },
  {
   "cell_type": "markdown",
   "metadata": {},
   "source": [
    "3. menukar baris atau kolom dari suatu matriks maka akan mengubah tanda dari determinant matriks itu sendiri. bisa dilihat matriks A2 sebagai acuan. dimana determinanya adalah 5 setelah diubah pada A3 baris 0 ke baris 1 dan juga pada A4 dirubah dari kolom 0 ke kolom 1 determinant nya menjadi -5. "
   ]
  },
  {
   "cell_type": "code",
   "execution_count": 3,
   "metadata": {},
   "outputs": [
    {
     "name": "stdout",
     "output_type": "stream",
     "text": [
      "[[1 4 2]\n",
      " [1 1 1]\n",
      " [3 2 1]]\n",
      "5.0\n",
      "\n",
      "[[1 1 1]\n",
      " [1 4 2]\n",
      " [3 2 1]]\n",
      "-5.0\n",
      "\n",
      "[[4 1 2]\n",
      " [1 1 1]\n",
      " [2 3 1]]\n",
      "-5.0\n"
     ]
    }
   ],
   "source": [
    "A2 = np.array([[1,4,2], [1,1,1], [3,2,1]])\n",
    "print(A2)\n",
    "print(np.linalg.det(A2).round())\n",
    "print()\n",
    "# merubah baris\n",
    "A3 = np.array([[1,1,1], [1,4,2], [3,2,1]])\n",
    "print(A3)\n",
    "print(np.linalg.det(A3).round())\n",
    "print()\n",
    "# perubahan kolo\n",
    "A4 = np.array([[4, 1, 2], [1, 1, 1], [2,3,1]])\n",
    "print(A4)\n",
    "print(np.linalg.det(A4).round())"
   ]
  },
  {
   "cell_type": "markdown",
   "metadata": {},
   "source": [
    "4. jika ada baris atau kolom dari matriks yang merupakan kelipatan dari baris atau kolom yang lain maka determinan nya adalah 0   \n",
    "contoh baris kedua merupakan kelipatan dua dari baris pertama  (B1)                \n",
    "contoh kolom kedua merupakan kelipatan 4 dari kolom pertama (B2)"
   ]
  },
  {
   "cell_type": "code",
   "execution_count": 4,
   "metadata": {},
   "outputs": [
    {
     "name": "stdout",
     "output_type": "stream",
     "text": [
      "[[1 4 2]\n",
      " [2 8 4]\n",
      " [3 2 1]]\n",
      "0.0\n",
      "\n",
      "[[1 4 2]\n",
      " [2 8 3]\n",
      " [1 4 1]]\n",
      "0.0\n"
     ]
    }
   ],
   "source": [
    "B1 = np.array([[1,4,2], [2,8,4], [3,2,1]])\n",
    "print(B1)\n",
    "print(np.linalg.det(B1).round())\n",
    "print()\n",
    "B2 = np.array([[1,4,2], [2,8,3], [1,4,1]])\n",
    "print(B2)\n",
    "print(np.linalg.det(B2).round())"
   ]
  },
  {
   "cell_type": "markdown",
   "metadata": {},
   "source": [
    "5. K = SKALAR               \n",
    "\n",
    "$AnXn$    adalah matriks $nxn$     \n",
    "\n",
    "\n",
    "$ det(KA) = K^N * det(A)$                                          \n",
    "\n",
    "dengan contoh matriks dibawah dapat dihitung dengan:                         \n",
    "$ det KA = 2^3 * 5 = 40$          \n",
    "\n",
    "\n",
    "nb :\n",
    "2 = skalar             \n",
    "3 = jumlah ordo                    \n",
    "5 = det a\n",
    "\n",
    "pada matriks C12 dimana baris pertama merupakan hasil kali skalar dari matriks C1 (matriks c12 baris pertama hasil kali dari 1,4,2) maka determinanya **2 X detA**\n",
    "mari kita buktikan:"
   ]
  },
  {
   "cell_type": "code",
   "execution_count": 5,
   "metadata": {},
   "outputs": [
    {
     "name": "stdout",
     "output_type": "stream",
     "text": [
      "[[1 4 2]\n",
      " [1 1 1]\n",
      " [3 2 1]]\n",
      "40.0\n",
      "10.0\n"
     ]
    }
   ],
   "source": [
    "C1 = np.array([[1,4,2], [1,1,1], [3,2,1]])\n",
    "K = 2\n",
    "KA = K * C1\n",
    "print(C1)\n",
    "print(np.linalg.det(KA).round())\n",
    "C12 = np.array([[2,8,4], [1,1,1], [3,2,1]])\n",
    "print(np.linalg.det(C12).round())"
   ]
  },
  {
   "cell_type": "markdown",
   "metadata": {},
   "source": [
    "**6. MATRIKS SEGITIGA ATAS & BAWAH**    \n",
    "\n",
    "Matriks segitiga atas : jika dibawah diagonal utama [1,1,1] adalah 0, meskipun diatas diagonal utama tidak nol. jika melakukan operasi baris elementer tidak akan merubah determinan matriks tersebut.           \n",
    "\n",
    "Matriks segitiga bawah : jika diatas diagonal utama [1,1,1] adalah 0, meskipun dibawah diagonal utama tidak nol. jika melakukan operasi baris elementer tidak akan merubah determinan matriks tersebut.          \n",
    "           \n",
    "$detD1 = d1, d2, .... dn$         \n",
    "\n",
    "hasil determinanya adalah hasil perkalian dari elemen pada diagonal itu contoh pada matriks pertama $(1 x 4 x 1)$                                           \n",
    "pada contoh kedua $( 2 X 1 X 5 X 3)$"
   ]
  },
  {
   "cell_type": "code",
   "execution_count": 6,
   "metadata": {},
   "outputs": [
    {
     "name": "stdout",
     "output_type": "stream",
     "text": [
      "[[1 4 2]\n",
      " [0 4 1]\n",
      " [0 0 1]]\n",
      "4.0\n",
      "\n",
      "[[2 3 1 2]\n",
      " [0 1 2 1]\n",
      " [0 0 5 2]\n",
      " [0 0 0 3]]\n",
      "30.0\n"
     ]
    }
   ],
   "source": [
    "# MATRIKS SEGITIGA ATAS\n",
    "D1 = np.array([[1,4,2], [0,4,1],[0,0,1]])\n",
    "print(D1)\n",
    "print(np.linalg.det(D1).round())\n",
    "print()\n",
    "D2 = np.array([[2,3,1,2], [0,1,2,1],[0,0,5,2], [0,0,0,3]])\n",
    "print(D2)\n",
    "print(np.linalg.det(D2).round())"
   ]
  },
  {
   "cell_type": "markdown",
   "metadata": {},
   "source": [
    "7. melakukan operasi baris terhadap suatu matriks tidak akan merubah determinant dari suatu matriks"
   ]
  },
  {
   "cell_type": "code",
   "execution_count": 7,
   "metadata": {},
   "outputs": [
    {
     "name": "stdout",
     "output_type": "stream",
     "text": [
      "5.0\n",
      "5.0\n"
     ]
    }
   ],
   "source": [
    "E1 = np.array([[1,4,2], [1, 1, 1],[3,2,1]])\n",
    "E2 = np.array([[1,4,2], [0,-3,-1],[3,2,1]])\n",
    "print(np.linalg.det(E1).round())\n",
    "print(np.linalg.det(E2).round())"
   ]
  },
  {
   "cell_type": "markdown",
   "metadata": {},
   "source": [
    "8. determinan $detA^1 =  detA$"
   ]
  },
  {
   "cell_type": "code",
   "execution_count": 8,
   "metadata": {},
   "outputs": [
    {
     "name": "stdout",
     "output_type": "stream",
     "text": [
      "[[1 1 3]\n",
      " [4 1 2]\n",
      " [2 1 1]]\n",
      "5.0\n",
      "5.0\n"
     ]
    }
   ],
   "source": [
    "F1 = np.array([[1,4,2], [1, 1, 1],[3,2,1]])\n",
    "F1T = np.transpose(F1)\n",
    "print(F1T)\n",
    "print(np.linalg.det(F1).round())\n",
    "print(np.linalg.det(F1T).round())"
   ]
  },
  {
   "cell_type": "markdown",
   "metadata": {},
   "source": [
    "# **COFACTOR EXPANSION**\n",
    "\n",
    "Misalkan A adalah matriks n x n. Aij didefinisikan sebagai submatriks dari A yang diperoleh dengan menghapus baris ke-i dan kolom ke-j. Ekspansi kofaktor adalah metode untuk menghitung determinan matriks dengan cara memilih elemen matriks dan mengalikannya dengan minornya. Metode ini dapat digunakan untuk matriks dengan ukuran berapa pun, namun umumnya lebih efisien untuk matriks kecil (hingga 4x4).       \n",
    "cara mengitungnya adalah:                       \n",
    "\n",
    "**1. Pilih baris atau kolom:**                         \n",
    "- Pilih baris atau kolom matriks secara acak. \n",
    "\n",
    "**2. Hitung minor:**                   \n",
    "- Untuk setiap elemen pada baris/kolom yang dipilih, hitung minornya. Minor adalah determinan submatriks yang diperoleh dengan menghapus baris/kolom yang dipilih dan elemen yang ingin dihitung.\n",
    "\n",
    "**3. Kalikan elemen dengan minor:**                                \n",
    "- Kalikan setiap elemen pada baris/kolom yang dipilih dengan minornya.\n",
    "\n",
    "**4. Jumlahkan hasil perkalian:**                                               \n",
    "- Jumlahkan semua hasil perkalian yang diperoleh pada langkah 3.\n",
    "\n",
    "**5. Ulangi:**                         \n",
    "- Ulangi langkah 1 hingga 4 untuk setiap baris/kolom matriks.\n",
    "\n",
    "**6. Jumlahkan  hasil:**\n",
    "- Ekspansi kofaktor dapat menjadi rumit untuk matriks yang lebih besar.\n",
    "\n",
    "## **MENGHITUNG DETERMINAN MATRIX 4X4 DENGAN COFACTOR EXPANSION**         \n",
    "$\n",
    "A = \\begin{bmatrix}\n",
    "2 & 1 & 3 & 1 \\\\\n",
    "3 & 2 & 1 & 3 \\\\\n",
    "1 & 1 & 1 & 2 \\\\\n",
    "2 & 3 & 1 & 1\\\\\n",
    "\\end{bmatrix}\n",
    "$\n",
    "\n",
    "disini saya akan mengambil baris ke 3                                  \n",
    "$A31C31$                                  \n",
    "$A32C32$                            \n",
    "$A33C33$                         \n",
    "$A34C34$                        \n",
    " \n",
    "\n",
    "RUMUS COFACTOR ADALAH :                       \n",
    "$ c_𝑖𝑗=(−1)^(𝑖+𝑗) 𝑑𝑒𝑡𝐴_𝑖𝑗 $ \n",
    "\n",
    "\n",
    "MAKA :                   \n",
    "$C31$     =     $(-1)^3+^1 Det(M31)$                                \n",
    "$C32$     =     $(-1)^3+^2 Det(M32)$                        \n",
    "$C33$     =     $(-1)^3+^3 Det(M33)$                 \n",
    "$C34$     =     $(-1)^3+^4 Det(M34)$                          \n",
    "\n",
    "## 1. Mencari $DetM31$    \n",
    "$                       \n",
    "M31 = \\begin{bmatrix}\n",
    "1 & 3 & 1 \\\\\n",
    "2 & 1 & 3 \\\\\n",
    "3 & 1 & 1\\\\\n",
    "\\end{bmatrix}\n",
    "$                       \n",
    "\n",
    "  C21   =  $(-1)^2+^1 Det(M21)$                                      \n",
    "  C22   =  $(-1)^2+^2 Det(M22)$                                         \n",
    "  C23   =  $(-1)^2+^3 Det(M23)$ \n",
    "\n",
    "  A. mencari det(m21) dari matrix M31                               \n",
    "      $\n",
    "      M31C21 = \\begin{bmatrix}\n",
    "      3 & 1 \\\\\n",
    "      1 & 1\\\\                                                  \n",
    "      \\end{bmatrix}\n",
    "      $\n",
    "      determinannya M21 adalah 2                           \n",
    "                                   \n",
    "  B. mencari det(m22) dari matrix M31                               \n",
    "      $\n",
    "      M31C22 = \\begin{bmatrix}\n",
    "      1 & 1 \\\\\n",
    "      3 & 1\\\\                                                  \n",
    "      \\end{bmatrix}\n",
    "      $\n",
    "      determinannya M22 adalah -2 \n",
    "    \n",
    "  C.  mencari det(m23) dari matrix M31                               \n",
    "      $\n",
    "      M31C22 = \\begin{bmatrix}\n",
    "      1 & 3 \\\\\n",
    "      3 & 1\\\\                                                  \n",
    "      \\end{bmatrix}\n",
    "      $\n",
    "      determinannya M22 adalah -8\n",
    "\n",
    "  jadi :                              \n",
    "  C21   =  $2 * (-1)^2+^1 2$   =     -4                                            \n",
    "  C22   =  $1 * (-1)^2+^2 -2$  =     -2                                                     \n",
    "  C23   =  $3 * (-1)^2+^3 -8$  =     24                                   \n",
    "\n",
    "  $DetM31$    = -4 + -2 + 24 = 18\n",
    "  \n",
    "\n",
    "  ## 2. Mencari $DetM32$    \n",
    "$                       \n",
    "M32 = \\begin{bmatrix}\n",
    "2 & 3 & 1 \\\\\n",
    "3 & 1 & 3 \\\\\n",
    "2 & 1 & 1\\\\\n",
    "\\end{bmatrix}\n",
    "$                       \n",
    "\n",
    "  C21   =  $(-1)^2+^1 Det(M21)$                                      \n",
    "  C22   =  $(-1)^2+^2 Det(M22)$                                         \n",
    "  C23   =  $(-1)^2+^3 Det(M23)$ \n",
    "\n",
    "\n",
    "  A. mencari det(m21) dari matrix M32                              \n",
    "      $\n",
    "      M32C21 = \\begin{bmatrix}\n",
    "      3 & 1 \\\\\n",
    "      1 & 1\\\\                                                  \n",
    "      \\end{bmatrix}\n",
    "      $\n",
    "      determinannya M21 adalah 2                           \n",
    "                                   \n",
    "  B. mencari det(m22) dari matrix M32                              \n",
    "      $\n",
    "      M32C22 = \\begin{bmatrix}\n",
    "      2 & 1 \\\\\n",
    "      2 & 1\\\\                                                  \n",
    "      \\end{bmatrix}\n",
    "      $\n",
    "      determinannya M22 adalah 0\n",
    "\n",
    "  C. mencari det(m23) dari matrix M32                               \n",
    "      $\n",
    "      M32C22 = \\begin{bmatrix}\n",
    "      2 & 3 \\\\\n",
    "      2 & 1\\\\                                                  \n",
    "      \\end{bmatrix}\n",
    "      $\n",
    "      determinannya M22 adalah -4\n",
    "\n",
    "\n",
    "  jadi :                              \n",
    "  C21   =  $3 * (-1)^2+^1 2$   =    -6                                           \n",
    "  C22   =  $1 * (-1)^2+^2 0$  =      0                                                  \n",
    "  C23   =  $3 * (-1)^2+^3 -4$  =     12                                  \n",
    "\n",
    "  $DetM32$    = -6 + 12 = 6\n",
    "\n",
    "\n",
    "## 3. Mencari $DetM33$    \n",
    "$                       \n",
    "M33 = \\begin{bmatrix}\n",
    "2 & 1 & 1 \\\\\n",
    "3 & 2 & 3 \\\\\n",
    "2 & 3 & 1\\\\\n",
    "\\end{bmatrix}\n",
    "$                       \n",
    "\n",
    "  C21   =  $(-1)^2+^1 Det(M21)$                                      \n",
    "  C22   =  $(-1)^2+^2 Det(M22)$                                         \n",
    "  C23   =  $(-1)^2+^3 Det(M23)$ \n",
    "\n",
    "  A. mencari det(m21) dari matrix M33                              \n",
    "      $\n",
    "      M33C21 = \\begin{bmatrix}\n",
    "      1 & 1 \\\\\n",
    "      3 & 1\\\\                                                  \n",
    "      \\end{bmatrix}\n",
    "      $\n",
    "      determinannya M21 adalah - 2                           \n",
    "                                   \n",
    "  B. mencari det(m22) dari matrix M33                              \n",
    "      $\n",
    "      M33C22 = \\begin{bmatrix}\n",
    "      2 & 1 \\\\\n",
    "      2 & 1\\\\                                                  \n",
    "      \\end{bmatrix}\n",
    "      $\n",
    "      determinannya M22 adalah 0\n",
    "\n",
    "  C. mencari det(m23) dari matrix M33                               \n",
    "      $\n",
    "      M33C22 = \\begin{bmatrix}\n",
    "      2 & 1 \\\\\n",
    "      2 & 3\\\\                                                  \n",
    "      \\end{bmatrix}\n",
    "      $\n",
    "      determinannya M23 adalah 4\n",
    "\n",
    "  jadi :                              \n",
    "  C21   =  $3 * (-1)^2+^1 -2$ =    6                                          \n",
    "  C22   =  $2 * (-1)^2+^2 0$  =    0                                                  \n",
    "  C23   =  $3 * (-1)^2+^3 4$  =    -12                                  \n",
    "\n",
    "  $DetM33$    = 6 + -12 = -6\n",
    "\n",
    "## 4. Mencari $DetM34$    \n",
    "$                       \n",
    "M34 = \\begin{bmatrix}\n",
    "2 & 1 & 3 \\\\\n",
    "3 & 2 & 1 \\\\\n",
    "2 & 3 & 1\\\\\n",
    "\\end{bmatrix}\n",
    "$                       \n",
    "\n",
    "  C21   =  $(-1)^2+^1 Det(M21)$                                      \n",
    "  C22   =  $(-1)^2+^2 Det(M22)$                                         \n",
    "  C23   =  $(-1)^2+^3 Det(M23)$ \n",
    "\n",
    " A. mencari det(m21) dari matrix M34                             \n",
    "      $\n",
    "      M34C21 = \\begin{bmatrix}\n",
    "      1 & 3 \\\\\n",
    "      3 & 1\\\\                                                  \n",
    "      \\end{bmatrix}\n",
    "      $\n",
    "      determinannya M21 adalah - 8                        \n",
    "                                   \n",
    "  B. mencari det(m22) dari matrix M34                              \n",
    "      $\n",
    "      M34C22 = \\begin{bmatrix}\n",
    "      2 & 3 \\\\\n",
    "      2 & 1\\\\                                                  \n",
    "      \\end{bmatrix}\n",
    "      $\n",
    "      determinannya M22 adalah -4\n",
    "\n",
    "  C. mencari det(m23) dari matrix M34                              \n",
    "      $\n",
    "      M34C22 = \\begin{bmatrix}\n",
    "      2 & 1 \\\\\n",
    "      2 & 3\\\\                                                  \n",
    "      \\end{bmatrix}\n",
    "      $\n",
    "      determinannya M23 adalah 4\n",
    "\n",
    "  jadi :                              \n",
    "  C21   =  $3 * (-1)^2+^1 -8$ =    24                                         \n",
    "  C22   =  $2 * (-1)^2+^2 -4$ =    -8                                                  \n",
    "  C23   =  $1 * (-1)^2+^3 4$  =    -4                                 \n",
    "\n",
    "  $DetM34$    = 24 + -8 + -4 = 12\n",
    "\n",
    "# hitung determinan Matriks A\n",
    "$C31$     =     $1*(-1)^3+^1 18$      =   18                          \n",
    "$C32$     =     $1*(-1)^3+^2 6$       =   -6               \n",
    "$C33$     =     $1*(-1)^3+^3 -6$      =   -6          \n",
    "$C34$     =     $2*(-1)^3+^4 12$      =   -24   \n",
    "dapat disimpulkan bahwa                                                                                              \n",
    "$Det matriks A$    = 18 + -6 + -6 + -24 = -18                                  \n",
    "mari kita buktikan:"
   ]
  },
  {
   "cell_type": "code",
   "execution_count": 9,
   "metadata": {},
   "outputs": [
    {
     "name": "stdout",
     "output_type": "stream",
     "text": [
      "[[2 1 3 1]\n",
      " [3 2 1 3]\n",
      " [1 1 1 2]\n",
      " [2 3 1 1]]\n",
      "-18.0\n"
     ]
    }
   ],
   "source": [
    "A2 = np.array([[2,1,3,1], [3,2,1,3],[1,1,1,2],[2,3,1,1]])\n",
    "print(A2)\n",
    "print(np.linalg.det(A2).round())"
   ]
  },
  {
   "cell_type": "markdown",
   "metadata": {},
   "source": [
    "SUMBER :\n",
    "- https://www.zenius.net/blog/determinan-matriks\n",
    "- https://id.wikipedia.org/wiki/Determinan\n",
    "- https://www.ruangguru.com/blog/cara-mencari-determinan-dan-invers-matriks\n",
    "- https://www.kompas.com/skola/read/2023/05/26/214500269/cara-mencari-determinan-matriks-ordo-3x3"
   ]
  }
 ],
 "metadata": {
  "kernelspec": {
   "display_name": "Python 3 (ipykernel)",
   "language": "python",
   "name": "python3"
  }
 },
 "nbformat": 4,
 "nbformat_minor": 2
}
