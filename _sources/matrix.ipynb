{
 "cells": [
  {
   "cell_type": "markdown",
   "metadata": {},
   "source": [
    "# **MATRIX**\n",
    "Matriks adalah susunan angka yang rapi, tersusun dalam baris dan kolom. Bayangkan seperti tabel persegi panjang, di mana setiap kotaknya berisi angka. Angka-angka ini disebut elemen matriks.\n",
    "\n",
    "Setiap elemen memiliki alamat unik, yaitu baris dan kolomnya. Misalkan sebuah matriks bernama A dengan m baris dan n kolom. Elemen pada baris ke-i dan kolom ke-j dinotasikan sebagai a sub i,j.\n",
    "A = $$ \\begin{bmatrix} a_{11} & a_{12} & \\dots & a_{1n} \\\\ a_{21} & a_{22} & \\dots & a_{2n} \\\\ \\vdots & \\vdots & \\ddots & \\vdots \\\\ a_{m1} & a_{m2} & \\dots & a_{mn} \\end{bmatrix}  $$\n",
    "\n",
    "Di mana \\( a_{ij} \\) merupakan elemen pada baris ke-\\( i \\) dan kolom ke-\\( j \\).\n",
    "\n",
    "   \n",
    "   \n",
    "\n",
    "\n",
    "\n",
    "### **OPERASI MATRIKS**\n",
    "Operasi matriks adalah serangkaian operasi atau tindakan yang dilakukan pada matriks, baik itu untuk mengubah matriks ataupun menggabungkan matriks. Berikut beberapa operasi matriks yang sering digunakan:"
   ]
  },
  {
   "cell_type": "code",
   "execution_count": 1,
   "metadata": {},
   "outputs": [
    {
     "name": "stdout",
     "output_type": "stream",
     "text": [
      "A=\n",
      " [[ 4  2  1]\n",
      " [ 5  3  1]\n",
      " [ 2 -3  4]]\n",
      "B=\n",
      " [[ 3  2  6]\n",
      " [ 7  1  4]\n",
      " [ 2 -2  6]]\n",
      "C=\n",
      " [[ 5  2]\n",
      " [-4  7]\n",
      " [ 6  5]]\n"
     ]
    }
   ],
   "source": [
    "import numpy as np\n",
    "import sympy as sy\n",
    "\n",
    "a=np.array([[4,2,1],[5,3,1],[2,-3,4]])\n",
    "b=np.array([[3,2,6],[7,1,4],[2,-2,6]])\n",
    "c=np.array([[5,2],[-4,7],[6,5]])\n",
    "print('A=\\n',a)\n",
    "print('B=\\n',b)\n",
    "print('C=\\n',c)"
   ]
  },
  {
   "cell_type": "markdown",
   "metadata": {},
   "source": [
    "### **1.Penjumlahan matriks :**\n",
    "\n",
    "Operasi ini menambahkan elemen elemen dari dua matriks yang memiliki ordo yang sama. nah, kedua matriks ini harus memiliki baris dan kolom yang sama.\n",
    "\n",
    "CONTOH PENJUMLAHAN MATRIKS A + B :          \n",
    "matriks \\( A \\):\n",
    "$\n",
    "A = \\begin{bmatrix}\n",
    "4 & 2 & 1 \\\\\n",
    "5 & 3 & 1 \\\\\n",
    "2 & -3 & 4\n",
    "\\end{bmatrix}\n",
    "$\n",
    "\n",
    "\n",
    "Matriks \\( B \\):\n",
    "$\n",
    "B = \\begin{bmatrix}\n",
    "3 & 2 & 6 \\\\\n",
    "7 & 1 & 4 \\\\\n",
    "2 & -2 & 6\n",
    "\\end{bmatrix}\n",
    "$\n",
    "\n",
    "Hasil Penjumlahan Matriks \\( A \\) dan \\( B \\):       \n",
    "$\n",
    "A + B = \\begin{bmatrix}\n",
    "4+3 & 2+2 & 1+6 \\\\\n",
    "5+7 & 3+1 & 1+4 \\\\\n",
    "2+2 & -3-2 & 4+6\n",
    "\\end{bmatrix}  \n",
    "$   \n",
    "Jadi, hasil penjumlahan dari matriks \\( A \\) dan \\( B \\) adalah:              \n",
    "$\n",
    "A + B = \\begin{bmatrix}\n",
    "7 & 4 & 7 \\\\\n",
    "12 & 4 & 5 \\\\\n",
    "4 & -5 & 10\n",
    "\\end{bmatrix}\n",
    "$\n",
    "    \n",
    "    \n",
    "BERIKUT PROGRAM UNTUK PENJUMLAHAN MATRIKS:\n",
    "\n"
   ]
  },
  {
   "cell_type": "code",
   "execution_count": 2,
   "metadata": {},
   "outputs": [
    {
     "name": "stdout",
     "output_type": "stream",
     "text": [
      "A+B=\n",
      " [[ 7  4  7]\n",
      " [12  4  5]\n",
      " [ 4 -5 10]]\n",
      "B+A=\n",
      " [[ 7  4  7]\n",
      " [12  4  5]\n",
      " [ 4 -5 10]]\n",
      "Sifat di atas merupakan sifat komutatif karena A+B = B+A\n"
     ]
    }
   ],
   "source": [
    "print('A+B=\\n',a+b)\n",
    "print('B+A=\\n',b+a)\n",
    "print('Sifat di atas merupakan sifat komutatif karena A+B = B+A')"
   ]
  },
  {
   "cell_type": "markdown",
   "metadata": {},
   "source": [
    "## **2.Pengurangan Matriks:**\n",
    "\n",
    "Operasi ini mengurangi elemen-elemen dari dua matriks yang memiliki ordo yang sama. kedua matriks ini harus memiliki baris dan kolom yang sama.\n",
    "\n",
    "CONTOH PENGURANGAN MATRIKS:   \n",
    "Matriks \\( A \\):\n",
    "$$\n",
    "A = \\begin{bmatrix}\n",
    "4 & 2 & 1 \\\\\n",
    "5 & 3 & 1 \\\\\n",
    "2 & -3 & 4\n",
    "\\end{bmatrix}\n",
    "$$\n",
    "\n",
    "Matriks \\( B \\):\n",
    "$$\n",
    "B = \\begin{bmatrix}\n",
    "3 & 2 & 6 \\\\\n",
    "7 & 1 & 4 \\\\\n",
    "2 & -2 & 6\n",
    "\\end{bmatrix}\n",
    "$$\n",
    "\n",
    "Hasil Pengurangan Matriks \\( A \\) dan \\( B \\):                                  \n",
    "$$\n",
    "A - B = \\begin{bmatrix}\n",
    "4-3 & 2-2 & 1-6 \\\\\n",
    "5-7 & 3-1 & 1-4 \\\\\n",
    "2-2 & -3-(-2) & 4-6\n",
    "\\end{bmatrix}\n",
    "$$\n",
    "\n",
    "                            \n",
    "Jadi, hasil pengurangan dari matriks \\( A \\) dan \\( B \\) adalah:              \n",
    "$$\n",
    "A - B = \\begin{bmatrix}\n",
    "1 & 0 & -5 \\\\\n",
    "-2 & 2 & -3 \\\\\n",
    "0 & -1 & -2\n",
    "\\end{bmatrix}\n",
    "$$\n",
    "BERIKUT PROGRAM UNTUK PENGURANGAN MATRIKS:"
   ]
  },
  {
   "cell_type": "code",
   "execution_count": 3,
   "metadata": {},
   "outputs": [
    {
     "name": "stdout",
     "output_type": "stream",
     "text": [
      "A-B=\n",
      " [[ 1  0 -5]\n",
      " [-2  2 -3]\n",
      " [ 0 -1 -2]]\n",
      "B-A=\n",
      " [[-1  0  5]\n",
      " [ 2 -2  3]\n",
      " [ 0  1  2]]\n",
      "Sifat di BUKAN merupakan sifat komutatif karena A-B TIDAK SAMA DENGAN B-A\n"
     ]
    }
   ],
   "source": [
    "print('A-B=\\n',a-b)\n",
    "print('B-A=\\n',b-a)\n",
    "print('Sifat di BUKAN merupakan sifat komutatif karena A-B TIDAK SAMA DENGAN B-A')"
   ]
  },
  {
   "cell_type": "markdown",
   "metadata": {},
   "source": [
    "## **3.Perkalian Matriks:**\n",
    "\n",
    "Perkalian matriks melibatkan operasi matematika pada elemen-elemen individual matriks. Agar dua matriks dapat dikalikan, jumlah kolom pada matriks pertama harus sama dengan jumlah baris pada matriks kedua.\n",
    "\n",
    "Misalkan matriks A memiliki dimensi mxn, dan matriks B memiliki dimensi nxp.\n",
    "\n",
    "Syarat:\n",
    "\n",
    "Jumlah kolom A (n) harus sama dengan jumlah baris B (n).\n",
    "Hasilnya\n",
    "- Perkalian menghasilkan matriks baru dengan dimensi mxp.    \n",
    "- Jumlah baris pada matriks hasil sama dengan jumlah baris A (m).     \n",
    "- Jumlah kolom pada matriks hasil sama dengan jumlah kolom B (p).                          \n",
    "\n",
    "**Proses Perkalian:**\n",
    "\n",
    "- Kalikan elemen baris pertama A dengan setiap elemen kolom pertama B.                    \n",
    "- Jumlahkan hasil perkalian ini untuk mendapatkan elemen (1,1) pada matriks hasil.               \n",
    "- Ulangi langkah 1 untuk elemen baris pertama A dengan setiap kolom B lainnya. \n",
    "Ini akan menghasilkan elemen (1,2), (1,3), ..., (1,p) pada matriks hasil.                  \n",
    "- Ulangi langkah 1 dan 2 untuk baris kedua A, baris ketiga A, dan seterusny               \n",
    "\n",
    "CONTOH PERKALIAN MATRIKS:\n",
    "\n",
    "\n",
    "Dengan menggunakan matriks \\(A\\) dan \\(B\\) yang Anda berikan, mari kita hitung hasil perkalian \\(A \\times B\\):\n",
    "\n",
    " A = \n",
    " $$\\begin{bmatrix} 4 & 2 & 1 \\\\ 5 & 3 & 1 \\\\ 2 & -3 & 4 \\end{bmatrix} $$\n",
    "\n",
    " B = \n",
    " $$\\begin{bmatrix} 3 & 2 & 6 \\\\ 7 & 1 & 4 \\\\ 2 & -2 & 6 \\end{bmatrix}$$\n",
    "\n",
    "Untuk menghitung hasil perkalian matriks, kita dapat menggunakan aturan perkalian matriks, yaitu mengalikan setiap elemen baris pertama dari matriks \\(A\\) dengan setiap elemen kolom pertama dari matriks \\(B\\), dan seterusnya.   \n",
    "\n",
    "\n",
    "\n",
    "A × B = \n",
    "$$\\begin{bmatrix} 4 \\times 3 + 2 \\times 7 + 1 \\times 2 & 4 \\times 2 + 2 \\times 1 + 1 \\times (-2) & 4 \\times 6 + 2 \\times 4 + 1 \\times 6 \\\\ 5 \\times 3 + 3 \\times 7 + 1 \\times 2 & 5 \\times 2 + 3 \\times 1 + 1 \\times (-2) & 5 \\times 6 + 3 \\times 4 + 1 \\times 6 \\\\ 2 \\times 3 + (-3) \\times 7 + 4 \\times 2 & 2 \\times 2 + (-3) \\times 1 + 4 \\times (-2) & 2 \\times 6 + (-3) \\times 4 + 4 \\times 6 \\end{bmatrix}$$\n",
    "\n",
    "\n",
    "\n",
    "\n",
    "Jadi, hasil perkalian matriks \\(A\\) dan \\(B\\) adalah:\n",
    "\n",
    " A x B = \n",
    " $$\\begin{bmatrix} 24 & 2 & 32 \\\\ 38 & 3 & 44 \\\\ -13 & -12 & 10 \\end{bmatrix}$$\n",
    "\n",
    "BERIKUT PROGRAM UNTUK PERKALIAN MATRIKS:"
   ]
  },
  {
   "cell_type": "code",
   "execution_count": 4,
   "metadata": {},
   "outputs": [
    {
     "name": "stdout",
     "output_type": "stream",
     "text": [
      "AB=\n",
      " [[28  8 38]\n",
      " [38 11 48]\n",
      " [-7 -7 24]]\n",
      "AC=\n",
      " [[18 27]\n",
      " [19 36]\n",
      " [46  3]]\n",
      "BC=\n",
      " [[43 50]\n",
      " [55 41]\n",
      " [54 20]]\n"
     ]
    }
   ],
   "source": [
    "print('AB=\\n',a@b)\n",
    "print('AC=\\n',a@c)\n",
    "print('BC=\\n',b@c)"
   ]
  },
  {
   "cell_type": "markdown",
   "metadata": {},
   "source": [
    "## **4.Transpose Matriks**\n",
    "\n",
    "Transpose matriks adalah matriks baru yang diperoleh dengan cara menukar elemen-elemen baris menjadi elemen kolom atau sebaliknya. Jika sebuah matriks berukuran M X N, maka transpose matriks tersebut memiliki ordo N X M.\n",
    "\n",
    "CONTOH TRANSPOSE MATRIKS:\n",
    "$$\n",
    "\\begin{align*}\n",
    "C=\n",
    "\\begin{bmatrix}\n",
    "3&4\\\\\n",
    "-2&4\\\\\n",
    "2&5\n",
    "\\end{bmatrix}\n",
    "&&\n",
    "CT (C Transposre)=\n",
    "\\begin{bmatrix}\n",
    "3&-2&2\\\\\n",
    "4&4&-5\n",
    "\\end{bmatrix}\n",
    "\\end{align*}\n",
    "$$\n",
    "BERIKUT PROGRAM UNTUK MENG-TRANSPOSE MATRIKS:"
   ]
  },
  {
   "cell_type": "code",
   "execution_count": 5,
   "metadata": {},
   "outputs": [
    {
     "name": "stdout",
     "output_type": "stream",
     "text": [
      "matrik c sebelum di transpose=\n",
      " [[ 3  4]\n",
      " [-2  4]\n",
      " [ 2  5]]\n",
      "matrik c setelah di transpose=\n",
      " [[ 3 -2  2]\n",
      " [ 4  4  5]]\n",
      "ordo C_transpose adalah (2, 3)\n",
      "Z = C_transpose x C =\n",
      " [[17 14]\n",
      " [14 57]]\n",
      "ordo z adalah (2, 2)\n",
      "P = C_transpose x C =\n",
      " [[25 10 26]\n",
      " [10 20 16]\n",
      " [26 16 29]]\n",
      "ordo P adalah (3, 3)\n",
      "Dapat disimpulkan bahwa C_transpose X C tidak sama dengan C X C_transpose\n"
     ]
    }
   ],
   "source": [
    "c=np.array([[3,4],[-2,4],[2,5]])\n",
    "c_tran = c.transpose()\n",
    "print('matrik c sebelum di transpose=\\n', c)\n",
    "print('matrik c setelah di transpose=\\n',c_tran)\n",
    "print('ordo C_transpose adalah',c_tran.shape)\n",
    "z=c_tran@c\n",
    "print('Z = C_transpose x C =\\n',z)\n",
    "print('ordo z adalah',z.shape)\n",
    "p=c@c_tran\n",
    "print('P = C_transpose x C =\\n',p)\n",
    "print('ordo P adalah',p.shape)\n",
    "print(\"Dapat disimpulkan bahwa C_transpose X C tidak sama dengan C X C_transpose\")"
   ]
  },
  {
   "cell_type": "code",
   "execution_count": 6,
   "metadata": {},
   "outputs": [
    {
     "name": "stdout",
     "output_type": "stream",
     "text": [
      "Berikut adalah contoh matriks\n",
      "\n",
      "matriks 1=([[2,3,2],[4,1,-3],[-1,-2,2]])\n",
      "matriks 1=([[2,4,7],[6,-3,2],[5,-2,7]])\n",
      "\n",
      "\n",
      "Hasil perkalian matriks:\n",
      "[32, -5, 34]\n",
      "[-1, 19, 9]\n",
      "[-4, -2, 3]\n"
     ]
    }
   ],
   "source": [
    "#MENGALIKAN MATRIX\n",
    "\n",
    "def perkalian(matrix1, matrix2):\n",
    "    if len(matrix1[0]) != len(matrix2):\n",
    "        print(\"Perkalian matriks tidak dapat dilakukan karena jumlah kolom dalam matriks pertama tidak sama dengan jumlah baris dalam matriks kedua\")\n",
    "        return None\n",
    "    result = [[0 for _ in range(len(matrix2[0]))] for _ in range(len(matrix1))]\n",
    "    for i in range(len(matrix1)):\n",
    "        for j in range(len(matrix2[0])):\n",
    "            for k in range(len(matrix2)):\n",
    "                result[i][j] += matrix1[i][k] * matrix2[k][j]\n",
    "    return result\n",
    "\n",
    "def tampilan_hasil(matrix):\n",
    "    for baris in matrix:\n",
    "        print(baris)\n",
    "\n",
    "#JIKA USER INGIN MENGINPUTKAN MATRIKSNYA SENDIRI BISA MENGGUNAKAN CODE DIBAWAH INI :\n",
    "\"\"\"def input_matrix():\n",
    "    baris = int(input(\"Masukkan jumlah baris: \"))\n",
    "    kolom = int(input(\"Masukkan jumlah kolom: \"))\n",
    "    matrix = []\n",
    "    for i in range(baris):\n",
    "        row = []\n",
    "        print(f\"Masukkan elemen untuk baris {i + 1}: \")\n",
    "        for j in range(kolom):\n",
    "            element = float(input(f\"Elemen [{i + 1}, {j + 1}]: \"))\n",
    "            row.append(element)\n",
    "        matrix.append(row)\n",
    "    return matrix\n",
    "\n",
    "print(\"Program perkalian matriks!!\")\n",
    "print(\"Masukkan matriks pertama:\")\n",
    "matriks1 = input_matrix()\n",
    "print (\"Matriks 1 = \", matriks1)\n",
    "print(\"Masukkan matriks kedua:\")\n",
    "matriks2 = input_matrix()\n",
    "print (\"Matriks 2 = \",matriks2)\n",
    "test = perkalian(matriks1, matriks2)\n",
    "print(\"\\nHasil perkalian matriks:\")\n",
    "tampilan_hasil(test)\"\"\"\n",
    "\n",
    "\n",
    "print (\"Berikut adalah contoh matriks\")\n",
    "print (\"\"\"\n",
    "matriks 1=([[2,3,2],[4,1,-3],[-1,-2,2]])\n",
    "matriks 1=([[2,4,7],[6,-3,2],[5,-2,7]])\n",
    "\"\"\")\n",
    "matriks1=([[2,3,2],[4,1,-3],[-1,-2,2]])\n",
    "matriks2=([[2,4,7],[6,-3,2],[5,-2,7]])\n",
    "test = perkalian(matriks1, matriks2)\n",
    "print(\"\\nHasil perkalian matriks:\")\n",
    "tampilan_hasil(test)\n"
   ]
  },
  {
   "cell_type": "code",
   "execution_count": 7,
   "metadata": {},
   "outputs": [
    {
     "name": "stdout",
     "output_type": "stream",
     "text": [
      "A=\n",
      " [[3 2 1 2]\n",
      " [5 4 2 3]\n",
      " [2 5 1 4]\n",
      " [3 5 7 2]]\n",
      "\n",
      "B=\n",
      " [[ 3  2  6  4]\n",
      " [ 7  1  4  5]\n",
      " [ 2 -2  6  9]]\n",
      "\n",
      "[[ 3  7  2]\n",
      " [ 2  1 -2]\n",
      " [ 6  4  6]\n",
      " [ 4  5  9]]\n",
      "\n",
      "[[27 37 26]\n",
      " [47 62 41]\n",
      " [38 43 36]\n",
      " [69 64 56]]\n"
     ]
    }
   ],
   "source": [
    "import numpy as np\n",
    "import sympy as sy\n",
    "\n",
    "a=np.array([[3,2,1, 2],[5,4,2, 3],[2,5, 1, 4], [3, 5, 7, 2]])\n",
    "b=np.array([[3,2,6, 4],[7,1,4, 5],[2,-2,6, 9]])\n",
    "\n",
    "print('A=\\n',a)\n",
    "print()\n",
    "print('B=\\n',b)\n",
    "print()\n",
    "C = b.transpose()\n",
    "print(C)\n",
    "print()\n",
    "D = a @ C\n",
    "print(D)\n"
   ]
  },
  {
   "cell_type": "markdown",
   "metadata": {},
   "source": [
    "REFERENSI:   \n",
    "- https://www.pijarbelajar.id/blog/operasi-matriks-penjumlahan-pengurangan-dan-perkalian-beserta-contoh-soalnya      \n",
    "- https://www.gramedia.com/literasi/transpose-matriks/     \n",
    "- https://numpy.org/doc/stable/reference/generated/numpy.matrix.transpose.html         "
   ]
  }
 ],
 "metadata": {
  "kernelspec": {
   "display_name": "Python 3 (ipykernel)",
   "language": "python",
   "name": "python3"
  }
 },
 "nbformat": 4,
 "nbformat_minor": 2
}
